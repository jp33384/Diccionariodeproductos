{
  "nbformat": 4,
  "nbformat_minor": 0,
  "metadata": {
    "colab": {
      "provenance": []
    },
    "kernelspec": {
      "name": "python3",
      "display_name": "Python 3"
    },
    "language_info": {
      "name": "python"
    }
  },
  "cells": [
    {
      "cell_type": "code",
      "execution_count": 2,
      "metadata": {
        "colab": {
          "base_uri": "https://localhost:8080/"
        },
        "id": "mwhQp4mE42wc",
        "outputId": "9447ca64-1508-4536-fb17-58da459d85a3"
      },
      "outputs": [
        {
          "output_type": "stream",
          "name": "stdout",
          "text": [
            "Diccionario inicial de productos y precios:\n",
            "{'Laptop': 999.99, 'Ratón': 25.5, 'Teclado': 45.75, 'Monitor': 200.0, 'Auriculares': 75.25}\n",
            "El precio de 'Ratón' ha sido modificado a 30.0.\n",
            "\n",
            "Diccionario después de modificar el precio:\n",
            "{'Laptop': 999.99, 'Ratón': 30.0, 'Teclado': 45.75, 'Monitor': 200.0, 'Auriculares': 75.25}\n",
            "Producto 'Impresora' agregado con un precio de 150.0.\n",
            "\n",
            "Diccionario después de agregar un nuevo producto:\n",
            "{'Laptop': 999.99, 'Ratón': 30.0, 'Teclado': 45.75, 'Monitor': 200.0, 'Auriculares': 75.25, 'Impresora': 150.0}\n",
            "Producto 'Auriculares' eliminado del diccionario.\n",
            "\n",
            "Diccionario después de eliminar un producto:\n",
            "{'Laptop': 999.99, 'Ratón': 30.0, 'Teclado': 45.75, 'Monitor': 200.0, 'Impresora': 150.0}\n"
          ]
        }
      ],
      "source": [
        "# Paso 1: Diccionario de productos y sus precios\n",
        "productos = {\n",
        "    \"Laptop\": 999.99,\n",
        "    \"Ratón\": 25.50,\n",
        "    \"Teclado\": 45.75,\n",
        "    \"Monitor\": 200.00,\n",
        "    \"Auriculares\": 75.25\n",
        "}\n",
        "\n",
        "# Mostrar el diccionario inicial\n",
        "print(\"Diccionario inicial de productos y precios:\")\n",
        "print(productos)\n",
        "\n",
        "# Paso 2: Modificar el precio de un producto\n",
        "def modificar_precio(productos, nombre_producto, nuevo_precio):\n",
        "    if nombre_producto in productos:\n",
        "        productos[nombre_producto] = nuevo_precio\n",
        "        print(f\"El precio de '{nombre_producto}' ha sido modificado a {nuevo_precio}.\")\n",
        "    else:\n",
        "        print(f\"El producto '{nombre_producto}' no existe en el diccionario.\")\n",
        "\n",
        "modificar_precio(productos, \"Ratón\", 30.00)\n",
        "\n",
        "# Mostrar el diccionario después de la modificación\n",
        "print(\"\\nDiccionario después de modificar el precio:\")\n",
        "print(productos)\n",
        "\n",
        "# Paso 3: Agregar un nuevo producto\n",
        "def agregar_producto(productos, nombre_producto, precio):\n",
        "    if nombre_producto not in productos:\n",
        "        productos[nombre_producto] = precio\n",
        "        print(f\"Producto '{nombre_producto}' agregado con un precio de {precio}.\")\n",
        "    else:\n",
        "        print(f\"El producto '{nombre_producto}' ya existe en el diccionario.\")\n",
        "\n",
        "agregar_producto(productos, \"Impresora\", 150.00)\n",
        "\n",
        "# Mostrar el diccionario después de agregar el nuevo producto\n",
        "print(\"\\nDiccionario después de agregar un nuevo producto:\")\n",
        "print(productos)\n",
        "\n",
        "# Paso 4: Eliminar un producto\n",
        "def eliminar_producto(productos, nombre_producto):\n",
        "    if nombre_producto in productos:\n",
        "        del productos[nombre_producto]\n",
        "        print(f\"Producto '{nombre_producto}' eliminado del diccionario.\")\n",
        "    else:\n",
        "        print(f\"El producto '{nombre_producto}' no existe en el diccionario.\")\n",
        "\n",
        "eliminar_producto(productos, \"Auriculares\")\n",
        "\n",
        "# Mostrar el diccionario después de eliminar el producto\n",
        "print(\"\\nDiccionario después de eliminar un producto:\")\n",
        "print(productos)"
      ]
    }
  ]
}